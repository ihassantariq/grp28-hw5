{
 "cells": [
  {
   "cell_type": "code",
   "execution_count": 1,
   "metadata": {},
   "outputs": [],
   "source": [
    "import networkx as nx"
   ]
  },
  {
   "cell_type": "code",
   "execution_count": 32,
   "metadata": {},
   "outputs": [],
   "source": [
    "G = nx.DiGraph()"
   ]
  },
  {
   "cell_type": "code",
   "execution_count": 33,
   "metadata": {},
   "outputs": [],
   "source": [
    "f = open(\"wiki-topcats-page-names.txt\", \"r\")\n",
    "for row in f:\n",
    "    #print(row.split())\n",
    "    lrow = row.split()\n",
    "    name = ' '.join(lrow[1:])\n",
    "    G.add_node(int(lrow[0]))\n",
    "    G.node[int(lrow[0])][\"name\"] = name\n",
    "    #if int(lrow[0]) >10:\n",
    "    #    break\n",
    "f.close()"
   ]
  },
  {
   "cell_type": "code",
   "execution_count": 34,
   "metadata": {},
   "outputs": [
    {
     "data": {
      "text/plain": [
       "{'name': 'Kleroterion'}"
      ]
     },
     "execution_count": 34,
     "metadata": {},
     "output_type": "execute_result"
    }
   ],
   "source": [
    "G.node[1]"
   ]
  },
  {
   "cell_type": "code",
   "execution_count": 35,
   "metadata": {},
   "outputs": [
    {
     "data": {
      "text/plain": [
       "\"for index, row in croutes3.iterrows():\\n    G.add_edge(int(row['source_airport_ID']), int(row['destination_airport_ID']))\\n    for attr in columnsA:\\n        G.edges[int(row['source_airport_ID']), int(row['destination_airport_ID'])][attr]=row[attr]\""
      ]
     },
     "execution_count": 35,
     "metadata": {},
     "output_type": "execute_result"
    }
   ],
   "source": [
    "flink = open(\"wiki-topcats-reduced.txt\", \"r\")\n",
    "for i,row in enumerate(flink):\n",
    "    #print(row.split())\n",
    "    lrow = row.split()\n",
    "    G.add_edge(int(lrow[0]), int(lrow[1]))\n",
    "    #if i >10:\n",
    "    #    break\n",
    "flink.close()\n",
    "        \n",
    "\n",
    "\"\"\"for index, row in croutes3.iterrows():\n",
    "    G.add_edge(int(row['source_airport_ID']), int(row['destination_airport_ID']))\n",
    "    for attr in columnsA:\n",
    "        G.edges[int(row['source_airport_ID']), int(row['destination_airport_ID'])][attr]=row[attr]\"\"\""
   ]
  },
  {
   "cell_type": "code",
   "execution_count": 36,
   "metadata": {},
   "outputs": [
    {
     "data": {
      "text/plain": [
       "1791489"
      ]
     },
     "execution_count": 36,
     "metadata": {},
     "output_type": "execute_result"
    }
   ],
   "source": [
    "G.number_of_nodes()"
   ]
  },
  {
   "cell_type": "code",
   "execution_count": 37,
   "metadata": {},
   "outputs": [
    {
     "data": {
      "text/plain": [
       "2645247"
      ]
     },
     "execution_count": 37,
     "metadata": {},
     "output_type": "execute_result"
    }
   ],
   "source": [
    "G.number_of_edges()"
   ]
  },
  {
   "cell_type": "code",
   "execution_count": 38,
   "metadata": {},
   "outputs": [
    {
     "name": "stdout",
     "output_type": "stream",
     "text": [
      "2.9531267007500466\n"
     ]
    }
   ],
   "source": [
    "degreeM = 0\n",
    "for node in G.node:\n",
    "    degreeM += G.degree(node)\n",
    "print(degreeM/G.number_of_nodes())"
   ]
  },
  {
   "cell_type": "code",
   "execution_count": 39,
   "metadata": {},
   "outputs": [
    {
     "data": {
      "text/plain": [
       "8.242105726496763e-07"
      ]
     },
     "execution_count": 39,
     "metadata": {},
     "output_type": "execute_result"
    }
   ],
   "source": [
    "nx.density(G)"
   ]
  },
  {
   "cell_type": "code",
   "execution_count": null,
   "metadata": {},
   "outputs": [],
   "source": []
  }
 ],
 "metadata": {
  "kernelspec": {
   "display_name": "Python 3",
   "language": "python",
   "name": "python3"
  },
  "language_info": {
   "codemirror_mode": {
    "name": "ipython",
    "version": 3
   },
   "file_extension": ".py",
   "mimetype": "text/x-python",
   "name": "python",
   "nbconvert_exporter": "python",
   "pygments_lexer": "ipython3",
   "version": "3.6.5"
  }
 },
 "nbformat": 4,
 "nbformat_minor": 2
}
